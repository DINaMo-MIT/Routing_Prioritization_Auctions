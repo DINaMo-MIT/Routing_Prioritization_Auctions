Priority:  random
Avg Revenue:  354.99
Avg Delay:  150.61
Avg Std Dev Delay (among agents):  1.691877535715422
Avg Num Conflicts:  71.33
Avg waiting costs:  684.42
Priority:  roundrobin
Avg Revenue:  352.18
Avg Delay:  136.68
Avg Std Dev Delay (among agents):  1.4096622505449445
Avg Num Conflicts:  70.84
Avg waiting costs:  649.9
Priority:  backpressure
Avg Revenue:  370.33
Avg Delay:  113.88
Avg Std Dev Delay (among agents):  1.245558931885563
Avg Num Conflicts:  73.99
Avg waiting costs:  653.13
Priority:  secondprice
Avg Revenue:  244.09
Avg Delay:  143.91
Avg Std Dev Delay (among agents):  1.7073438593788455
Avg Num Conflicts:  71.45
Avg waiting costs:  558.27
Priority:  secondback
Avg Revenue:  216.1811357228692
Avg Delay:  113.67
Avg Std Dev Delay (among agents):  1.3430204281608429
Avg Num Conflicts:  66.21
Avg waiting costs:  592.23
